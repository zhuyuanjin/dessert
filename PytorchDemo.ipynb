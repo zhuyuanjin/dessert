{
 "cells": [
  {
   "cell_type": "code",
   "execution_count": 1,
   "metadata": {
    "collapsed": true
   },
   "outputs": [],
   "source": [
    "import torch\n",
    "from torch import nn"
   ]
  },
  {
   "cell_type": "code",
   "execution_count": 2,
   "metadata": {},
   "outputs": [
    {
     "name": "stdout",
     "output_type": "stream",
     "text": [
      "Now the gradients of a is tensor([ 0.2500,  0.2500,  0.2500,  0.2500])\n",
      "Now the value of a is tensor([ 1.,  1.,  1.,  1.]), b is tensor([ 1.,  1.,  1.,  1.])\n",
      "Now the gradients of a is tensor([ 0.2500,  0.2500,  0.2500,  0.2500]), b is tensor([ 0.2500,  0.2500,  0.2500,  0.2500])\n",
      "Now the gradients of a is tensor([ 0.5000,  0.5000,  0.5000,  0.5000]), b is tensor([ 0.2500,  0.2500,  0.2500,  0.2500])\n",
      "Now the value of a is tensor([ 0.5000,  0.5000,  0.5000,  0.5000]), b is tensor([ 0.7500,  0.7500,  0.7500,  0.7500])\n"
     ]
    }
   ],
   "source": [
    "a = torch.ones(4, requires_grad=True)\n",
    "b = torch.ones(4, requires_grad=True)\n",
    "w = a.mean()\n",
    "y = b.mean()\n",
    "z = a.mean() + b.mean().detach()\n",
    "opt1 = torch.optim.SGD([a], lr=1)\n",
    "opt2 = torch.optim.SGD([b], lr=1)\n",
    "opt3 = torch.optim.SGD([a, b], lr=1)\n",
    "w.backward()\n",
    "print('Now the gradients of a is {}'.format(a.grad))\n",
    "opt2.step()\n",
    "print('Now the value of a is {}, b is {}'.format(a, b))\n",
    "y.backward()\n",
    "print('Now the gradients of a is {}, b is {}'.format(a.grad, b.grad))\n",
    "z.backward()\n",
    "print('Now the gradients of a is {}, b is {}'.format(a.grad, b.grad))\n",
    "opt3.step()\n",
    "print('Now the value of a is {}, b is {}'.format(a, b))"
   ]
  },
  {
   "cell_type": "code",
   "execution_count": 17,
   "metadata": {},
   "outputs": [
    {
     "name": "stdout",
     "output_type": "stream",
     "text": [
      "tensor([[ 1.,  1.,  1.,  1.]])\n",
      "tensor([ 1.])\n"
     ]
    }
   ],
   "source": [
    "net = nn.Linear(4,1)\n",
    "a = torch.ones(4, requires_grad=True)\n",
    "w = net(a)\n",
    "opt = torch.optim.SGD(net.parameters(), lr=0.01)\n",
    "w.backward(retain_graph=True)\n",
    "for param in net.parameters():\n",
    "    print(param.grad)"
   ]
  },
  {
   "cell_type": "code",
   "execution_count": 18,
   "metadata": {
    "collapsed": true
   },
   "outputs": [],
   "source": [
    "opt.zero_grad()"
   ]
  },
  {
   "cell_type": "code",
   "execution_count": 19,
   "metadata": {},
   "outputs": [
    {
     "name": "stdout",
     "output_type": "stream",
     "text": [
      "tensor([[ 1.,  1.,  1.,  1.]])\n",
      "tensor([ 1.])\n"
     ]
    }
   ],
   "source": [
    "w.backward()\n",
    "for param in net.parameters():\n",
    "    print(param.grad.data)"
   ]
  },
  {
   "cell_type": "code",
   "execution_count": null,
   "metadata": {
    "collapsed": true
   },
   "outputs": [],
   "source": []
  }
 ],
 "metadata": {
  "kernelspec": {
   "display_name": "Python 3",
   "language": "python",
   "name": "python3"
  },
  "language_info": {
   "codemirror_mode": {
    "name": "ipython",
    "version": 3
   },
   "file_extension": ".py",
   "mimetype": "text/x-python",
   "name": "python",
   "nbconvert_exporter": "python",
   "pygments_lexer": "ipython3",
   "version": "3.6.3"
  }
 },
 "nbformat": 4,
 "nbformat_minor": 2
}
